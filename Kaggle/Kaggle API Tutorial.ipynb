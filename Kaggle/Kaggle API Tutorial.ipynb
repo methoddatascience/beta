{
 "cells": [
  {
   "cell_type": "markdown",
   "metadata": {},
   "source": [
    "### This Tutorial is created to help you get familiar with the Kaggle command line interface (CLI)\n",
    "\n",
    "The complete documentation can be found [here](https://www.kaggle.com/docs/api). We'll be using the Kaggle CLI with the help of the jupyter [built-in magic command](https://ipython.readthedocs.io/en/stable/interactive/tutorial.html#system-shell-commands) for accessing system shell"
   ]
  },
  {
   "cell_type": "markdown",
   "metadata": {},
   "source": [
    "## Installation"
   ]
  },
  {
   "cell_type": "code",
   "execution_count": 1,
   "metadata": {},
   "outputs": [
    {
     "name": "stdout",
     "output_type": "stream",
     "text": [
      "Requirement already satisfied: kaggle in c:\\users\\raven\\anaconda3\\lib\\site-packages (1.4.5)\n",
      "Requirement already satisfied: six>=1.10 in c:\\users\\raven\\anaconda3\\lib\\site-packages (from kaggle) (1.11.0)\n",
      "Requirement already satisfied: requests in c:\\users\\raven\\anaconda3\\lib\\site-packages (from kaggle) (2.18.4)\n",
      "Requirement already satisfied: certifi in c:\\users\\raven\\anaconda3\\lib\\site-packages (from kaggle) (2018.4.16)\n",
      "Requirement already satisfied: tqdm in c:\\users\\raven\\anaconda3\\lib\\site-packages (from kaggle) (4.24.0)\n",
      "Requirement already satisfied: python-dateutil in c:\\users\\raven\\anaconda3\\lib\\site-packages (from kaggle) (2.7.3)\n",
      "Requirement already satisfied: urllib3<1.23.0,>=1.15 in c:\\users\\raven\\anaconda3\\lib\\site-packages (from kaggle) (1.22)\n",
      "Requirement already satisfied: chardet<3.1.0,>=3.0.2 in c:\\users\\raven\\anaconda3\\lib\\site-packages (from requests->kaggle) (3.0.4)\n",
      "Requirement already satisfied: idna<2.7,>=2.5 in c:\\users\\raven\\anaconda3\\lib\\site-packages (from requests->kaggle) (2.6)\n"
     ]
    }
   ],
   "source": [
    "! pip install kaggle"
   ]
  },
  {
   "cell_type": "markdown",
   "metadata": {},
   "source": [
    "## Authentication"
   ]
  },
  {
   "cell_type": "markdown",
   "metadata": {},
   "source": [
    "Before you begin accessing the Kaggle public API, you need to authenticate using an API token. The API token can be generated from your Kaggle account settings. Refer to the [documentation](https://www.kaggle.com/docs/api) for detailed steps."
   ]
  },
  {
   "cell_type": "markdown",
   "metadata": {},
   "source": [
    "## Kaggle Help & Version "
   ]
  },
  {
   "cell_type": "code",
   "execution_count": 2,
   "metadata": {},
   "outputs": [
    {
     "name": "stdout",
     "output_type": "stream",
     "text": [
      "usage: kaggle [-h] [-v] {competitions,c,datasets,d,kernels,k,config} ...\n",
      "\n",
      "optional arguments:\n",
      "  -h, --help            show this help message and exit\n",
      "  -v, --version         show program's version number and exit\n",
      "\n",
      "commands:\n",
      "  {competitions,c,datasets,d,kernels,k,config}\n",
      "                        Use one of:\n",
      "                        competitions {list, files, download, submit, submissions, leaderboard}\n",
      "                        datasets {list, files, download, create, version, init, metadata, status}\n",
      "                        config {view, set, unset}\n",
      "    competitions (c)    Commands related to Kaggle competitions\n",
      "    datasets (d)        Commands related to Kaggle datasets\n",
      "    kernels (k)         Commands related to Kaggle kernels\n",
      "    config              Configuration settings\n"
     ]
    }
   ],
   "source": [
    "! kaggle -h"
   ]
  },
  {
   "cell_type": "code",
   "execution_count": 3,
   "metadata": {},
   "outputs": [
    {
     "name": "stdout",
     "output_type": "stream",
     "text": [
      "Kaggle API 1.4.5\n"
     ]
    }
   ],
   "source": [
    "! kaggle -v"
   ]
  },
  {
   "cell_type": "markdown",
   "metadata": {},
   "source": [
    "## Kaggle Competitions"
   ]
  },
  {
   "cell_type": "code",
   "execution_count": 4,
   "metadata": {},
   "outputs": [
    {
     "name": "stdout",
     "output_type": "stream",
     "text": [
      "usage: kaggle competitions [-h]\n",
      "                           {list,files,download,submit,submissions,leaderboard}\n",
      "                           ...\n",
      "\n",
      "optional arguments:\n",
      "  -h, --help            show this help message and exit\n",
      "\n",
      "commands:\n",
      "  {list,files,download,submit,submissions,leaderboard}\n",
      "    list                List available competitions\n",
      "    files               List competition files\n",
      "    download            Download competition files\n",
      "    submit              Make a new competition submission\n",
      "    submissions         Show your competition submissions\n",
      "    leaderboard         Get competition leaderboard information\n"
     ]
    }
   ],
   "source": [
    "! kaggle competitions -h"
   ]
  },
  {
   "cell_type": "code",
   "execution_count": 5,
   "metadata": {},
   "outputs": [
    {
     "name": "stdout",
     "output_type": "stream",
     "text": [
      "ref                                              deadline             category            reward  teamCount  userHasEntered  \n",
      "-----------------------------------------------  -------------------  ---------------  ---------  ---------  --------------  \n",
      "house-prices-advanced-regression-techniques      2030-01-01 00:00:00  Getting Started  Knowledge       4496           False  \n",
      "digit-recognizer                                 2030-01-01 00:00:00  Getting Started  Knowledge       2334           False  \n",
      "titanic                                          2030-01-01 00:00:00  Getting Started  Knowledge       9797           False  \n",
      "imagenet-object-localization-challenge           2029-12-31 07:00:00  Research         Knowledge         23           False  \n",
      "competitive-data-science-predict-future-sales    2019-01-01 23:59:00  Playground           Kudos       1225           False  \n",
      "tgs-salt-identification-challenge                2018-10-19 23:59:00  Featured          $100,000       1260           False  \n",
      "airbus-ship-detection                            2018-10-04 23:59:00  Featured           $60,000        352           False  \n",
      "new-york-city-taxi-fare-prediction               2018-09-25 23:59:00  Playground       Knowledge        521           False  \n",
      "flavours-of-physics-kernels-only                 2018-09-24 23:59:00  Playground       Knowledge         35           False  \n",
      "forest-cover-type-kernels-only                   2018-09-24 23:59:00  Playground       Knowledge        213           False  \n",
      "whats-cooking-kernels-only                       2018-09-24 23:59:00  Playground       Knowledge        281           False  \n",
      "movie-review-sentiment-analysis-kernels-only     2018-09-24 23:59:00  Playground       Knowledge        204           False  \n",
      "demand-forecasting-kernels-only                  2018-09-24 23:59:00  Playground       Knowledge        229           False  \n",
      "costa-rican-household-poverty-prediction         2018-09-19 23:59:00  Playground            Swag        304           False  \n",
      "google-ai-open-images-object-detection-track     2018-08-30 23:59:00  Featured           $30,000        384           False  \n",
      "google-ai-open-images-visual-relationship-track  2018-08-30 23:59:00  Featured           $20,000        144           False  \n",
      "home-credit-default-risk                         2018-08-29 23:59:00  Featured           $70,000       6499            True  \n",
      "santander-value-prediction-challenge             2018-08-20 23:59:00  Featured           $60,000       4459            True  \n",
      "trackml-particle-identification                  2018-08-13 23:59:00  Featured           $25,000        656           False  \n",
      "youtube8m-2018                                   2018-08-06 23:59:00  Featured           $25,000        394           False  \n"
     ]
    }
   ],
   "source": [
    "! kaggle competitions list"
   ]
  },
  {
   "cell_type": "code",
   "execution_count": 6,
   "metadata": {},
   "outputs": [
    {
     "name": "stdout",
     "output_type": "stream",
     "text": [
      "name                    size  creationDate         \n",
      "---------------------  -----  -------------------  \n",
      "sample_submission.csv    1MB  2018-07-23 01:34:28  \n",
      "test.csv               967MB  2018-07-23 01:36:00  \n",
      "train.csv               62MB  2018-07-23 01:34:36  \n"
     ]
    }
   ],
   "source": [
    "! kaggle competitions files santander-value-prediction-challenge"
   ]
  },
  {
   "cell_type": "code",
   "execution_count": 7,
   "metadata": {},
   "outputs": [
    {
     "name": "stdout",
     "output_type": "stream",
     "text": [
      "sample_submission.csv.zip: Skipping, found more recently modified local copy (use --force to force download)\n",
      "test.csv.zip: Skipping, found more recently modified local copy (use --force to force download)\n",
      "train.csv.zip: Skipping, found more recently modified local copy (use --force to force download)\n"
     ]
    }
   ],
   "source": [
    "! kaggle competitions download santander-value-prediction-challenge"
   ]
  },
  {
   "cell_type": "code",
   "execution_count": 8,
   "metadata": {},
   "outputs": [
    {
     "name": "stdout",
     "output_type": "stream",
     "text": [
      "usage: kaggle competitions submit [-h] -f FILE_NAME -m MESSAGE [-q]\n",
      "                                  [competition]\n",
      "\n",
      "required arguments:\n",
      "  -f FILE_NAME, --file FILE_NAME\n",
      "                        File for upload (full path)\n",
      "  -m MESSAGE, --message MESSAGE\n",
      "                        Message describing this submission\n",
      "\n",
      "optional arguments:\n",
      "  -h, --help            show this help message and exit\n",
      "  competition           Competition URL suffix (use \"kaggle competitions list\" to show options)\n",
      "                        If empty, the default competition will be used (use \"kaggle config set competition\")\"\n",
      "  -q, --quiet           Suppress printing information about the upload/download progress\n"
     ]
    }
   ],
   "source": [
    "! kaggle competitions submit -h"
   ]
  },
  {
   "cell_type": "code",
   "execution_count": 9,
   "metadata": {},
   "outputs": [
    {
     "name": "stdout",
     "output_type": "stream",
     "text": [
      "No submissions found\n"
     ]
    }
   ],
   "source": [
    "! kaggle competitions submissions santander-value-prediction-challenge"
   ]
  },
  {
   "cell_type": "code",
   "execution_count": 10,
   "metadata": {
    "scrolled": true
   },
   "outputs": [
    {
     "name": "stdout",
     "output_type": "stream",
     "text": [
      " teamId  teamName                         submissionDate       score  \n",
      "-------  -------------------------------  -------------------  -----  \n",
      "1800117  Silogram & ln & alijs            2018-08-16 20:37:47  0.47   \n",
      "1800570  Dagian                           2018-08-16 22:25:38  0.47   \n",
      "1825708  Mohsin & raddar                  2018-08-17 04:56:26  0.47   \n",
      "1817979  I don't feel so good             2018-08-16 23:55:00  0.47   \n",
      "1796796  Paradox                          2018-08-17 05:41:12  0.47   \n",
      "1811964  fox13                            2018-08-16 20:05:24  0.48   \n",
      "1814166  Linear Regression Only           2018-08-16 21:03:04  0.48   \n",
      "1828393  x0x0w1                           2018-08-17 07:50:48  0.48   \n",
      "1800131  DV                               2018-08-17 07:15:52  0.48   \n",
      "1810402  cpuwdl                           2018-08-17 07:47:34  0.48   \n",
      "1820850  Sandeep Attree                   2018-08-16 21:32:40  0.48   \n",
      "1826485  Manuel Campos                    2018-08-17 00:13:52  0.48   \n",
      "1881908  chenhan zhang                    2018-08-16 17:51:04  0.48   \n",
      "1831334  Raymond Zeng                     2018-08-16 23:55:28  0.48   \n",
      "1817086  Marcelo Tamashiro                2018-08-16 13:38:23  0.48   \n",
      "1795489  Vicens Gaitan                    2018-08-16 15:01:58  0.48   \n",
      "1809803  Waring                           2018-08-17 05:54:50  0.48   \n",
      "1824165  yes                              2018-08-16 05:24:31  0.48   \n",
      "1828900  Public only                      2018-08-02 15:03:05  0.48   \n",
      "1955519  adityasinha                      2018-08-16 15:24:23  0.48   \n",
      "1852619  Zuper                            2018-08-16 16:47:44  0.48   \n",
      "1819479  Ryan Amaudruz                    2018-08-16 21:54:22  0.48   \n",
      "1808214  yurodiviy                        2018-08-10 12:22:14  0.48   \n",
      "1795827  Leaky Leaks                      2018-08-17 03:48:03  0.48   \n",
      "1819174  akki                             2018-08-16 12:28:15  0.48   \n",
      "1793586  Jack (Japan)                     2018-08-16 02:00:42  0.48   \n",
      "1795769  Manel                            2018-08-05 10:21:59  0.48   \n",
      "1838161  jorge236                         2018-08-14 12:45:20  0.48   \n",
      "1927436  pdr90xd                          2018-08-14 12:46:58  0.48   \n",
      "1870259  PKCTsikti                        2018-08-13 17:39:47  0.48   \n",
      "1887640  beluga                           2018-08-15 07:32:27  0.48   \n",
      "1811786  Academics looking for real jobs  2018-08-16 10:58:35  0.48   \n",
      "1857910  Haotian Fu                       2018-08-17 01:10:29  0.48   \n",
      "1843521  Chase the Trane                  2018-08-16 11:58:46  0.48   \n",
      "1826828  InuZamurai                       2018-08-16 06:21:35  0.48   \n",
      "1792626  kamitsu                          2018-08-17 02:42:24  0.48   \n",
      "1821739  keeeeei79                        2018-08-16 22:39:07  0.48   \n",
      "1872350  anatoly                          2018-08-16 21:25:08  0.48   \n",
      "1967431  Xufan Zhang                      2018-08-16 21:04:14  0.48   \n",
      "1803902  [ods.ai] g&s                     2018-08-16 19:31:32  0.48   \n",
      "1821006  Fatih & David                    2018-08-16 09:40:48  0.48   \n",
      "1798038  authman                          2018-08-16 02:18:04  0.48   \n",
      "1816574  Shuhei Goda                      2018-08-17 03:29:50  0.48   \n",
      "1808718  Bonny                            2018-08-16 17:07:56  0.48   \n",
      "1793282  Alexander Firsov                 2018-08-16 20:40:03  0.48   \n",
      "1837599  Highway                          2018-08-17 05:55:57  0.48   \n",
      "1805975  ironbar                          2018-08-09 20:22:17  0.48   \n",
      "1839145  Vladimir Boichenko               2018-08-16 18:03:47  0.48   \n",
      "1792101  pigooosuke                       2018-08-17 02:50:12  0.48   \n",
      "'charmap' codec can't encode characters in position 9-12: character maps to <undefined>\n"
     ]
    }
   ],
   "source": [
    "! kaggle competitions leaderboard -s santander-value-prediction-challenge"
   ]
  },
  {
   "cell_type": "markdown",
   "metadata": {},
   "source": [
    "## Kaggle Datasets"
   ]
  },
  {
   "cell_type": "code",
   "execution_count": 11,
   "metadata": {},
   "outputs": [
    {
     "name": "stdout",
     "output_type": "stream",
     "text": [
      "usage: kaggle datasets [-h]\n",
      "                       {list,files,download,create,version,init,metadata,status}\n",
      "                       ...\n",
      "\n",
      "optional arguments:\n",
      "  -h, --help            show this help message and exit\n",
      "\n",
      "commands:\n",
      "  {list,files,download,create,version,init,metadata,status}\n",
      "    list                List available datasets\n",
      "    files               List dataset files\n",
      "    download            Download dataset files\n",
      "    create              Create a new dataset\n",
      "    version             Create a new dataset version\n",
      "    init                Initialize metadata file for dataset creation\n",
      "    metadata            Download metadata about a dataset\n",
      "    status              Get the creation status for a dataset\n"
     ]
    }
   ],
   "source": [
    "! kaggle datasets -h"
   ]
  },
  {
   "cell_type": "markdown",
   "metadata": {},
   "source": [
    "## Kaggle Kernels"
   ]
  },
  {
   "cell_type": "code",
   "execution_count": 12,
   "metadata": {},
   "outputs": [
    {
     "name": "stdout",
     "output_type": "stream",
     "text": [
      "usage: kaggle kernels [-h] {list,init,push,pull,output,status} ...\n",
      "\n",
      "optional arguments:\n",
      "  -h, --help            show this help message and exit\n",
      "\n",
      "commands:\n",
      "  {list,init,push,pull,output,status}\n",
      "    list                List available kernels. By default, shows 20 results sorted by hotness\n",
      "    init                Initialize metadata file for a kernel\n",
      "    push                Push new code to a kernel and run the kernel\n",
      "    pull                Pull down code from a kernel\n",
      "    output              Get data output from the latest kernel run\n",
      "    status              Display the status of the latest kernel run\n"
     ]
    }
   ],
   "source": [
    "! kaggle kernels -h"
   ]
  },
  {
   "cell_type": "markdown",
   "metadata": {},
   "source": [
    "## Kaggle Configuration"
   ]
  },
  {
   "cell_type": "code",
   "execution_count": 13,
   "metadata": {},
   "outputs": [
    {
     "name": "stdout",
     "output_type": "stream",
     "text": [
      "usage: kaggle config [-h] {view,set,unset} ...\n",
      "\n",
      "optional arguments:\n",
      "  -h, --help        show this help message and exit\n",
      "\n",
      "commands:\n",
      "  {view,set,unset}\n",
      "    view            View current config values\n",
      "    set             Set a configuration value\n",
      "    unset           Clear a configuration value\n"
     ]
    }
   ],
   "source": [
    "! kaggle config -h"
   ]
  }
 ],
 "metadata": {
  "kernelspec": {
   "display_name": "Python 3",
   "language": "python",
   "name": "python3"
  },
  "language_info": {
   "codemirror_mode": {
    "name": "ipython",
    "version": 3
   },
   "file_extension": ".py",
   "mimetype": "text/x-python",
   "name": "python",
   "nbconvert_exporter": "python",
   "pygments_lexer": "ipython3",
   "version": "3.6.5"
  }
 },
 "nbformat": 4,
 "nbformat_minor": 2
}
